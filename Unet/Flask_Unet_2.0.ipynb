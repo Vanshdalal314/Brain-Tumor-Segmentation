{
 "cells": [
  {
   "cell_type": "code",
   "execution_count": 2,
   "id": "7fb691c2-6744-4fea-9723-4936c5633b4b",
   "metadata": {},
   "outputs": [],
   "source": [
    "from flask import Flask, render_template, request, redirect, url_for\n",
    "import os\n",
    "import tensorflow as tf\n",
    "from PIL import Image\n",
    "import numpy as np\n",
    "import matplotlib.pyplot as plt"
   ]
  },
  {
   "cell_type": "code",
   "execution_count": 3,
   "id": "130987eb-2557-48d7-82fd-79d9c3b4f2b1",
   "metadata": {},
   "outputs": [],
   "source": [
    "app = Flask(__name__)\n",
    "\n",
    "UPLOAD_FOLDER = 'uploads'\n",
    "app.config['UPLOAD_FOLDER'] = UPLOAD_FOLDER"
   ]
  },
  {
   "cell_type": "code",
   "execution_count": 4,
   "id": "07a036fb-e838-4edc-84a3-5249ce6ee137",
   "metadata": {},
   "outputs": [],
   "source": [
    "# Load the UNet model\n",
    "new_model = tf.keras.models.load_model('Unet_model.keras')"
   ]
  },
  {
   "cell_type": "code",
   "execution_count": 5,
   "id": "d8fdbdf5-d56a-4e90-8dc3-9ad84065fb9c",
   "metadata": {},
   "outputs": [],
   "source": [
    "# Define preprocessing functions\n",
    "def resize(input_image):\n",
    "    input_image = tf.image.resize(input_image, (128, 128), method=\"nearest\")\n",
    "    input_image.set_shape([128, 128, 3])  # Explicitly set the shape\n",
    "    return input_image\n",
    "\n",
    "def enhance_contrast(input_image):\n",
    "    enhanced_image = tf.image.per_image_standardization(input_image)\n",
    "    return enhanced_image\n",
    "\n",
    "def normalize(input_image):\n",
    "    input_image = tf.cast(input_image, tf.float32) / 255.0\n",
    "    return input_image\n",
    "\n",
    "def load_image_and_preprocess(image_path):\n",
    "    input_image = tf.io.read_file(image_path)\n",
    "    input_image = tf.image.decode_png(input_image, channels=3)\n",
    "    input_image = resize(input_image)\n",
    "    input_image = enhance_contrast(input_image)\n",
    "    input_image = normalize(input_image)\n",
    "    return input_image\n",
    "\n",
    "def display_2(display_list):\n",
    "    plt.figure(figsize=(10, 8))\n",
    "    title = [\"Input Image\",\"Predicted Tumor Region\"]\n",
    "    for i in range(len(display_list)):\n",
    "        plt.subplot(1, len(display_list), i+1)\n",
    "        plt.title(title[i])\n",
    "        plt.imshow(tf.keras.utils.array_to_img(display_list[i]), cmap = 'gray')\n",
    "        plt.axis(\"off\")\n",
    "        plt.savefig('static/pred.jpg')\n",
    "\n",
    "def create_mask(pred_mask):\n",
    "    pred_mask = tf.argmax(pred_mask, axis=-1)\n",
    "    pred_mask = pred_mask[..., tf.newaxis]\n",
    "    return pred_mask[0]\n",
    "\n",
    "def show_predictions(dataset=None, num=1):\n",
    "  if dataset:\n",
    "    for image in dataset.take(num):\n",
    "      pred_mask = new_model.predict(image)\n",
    "      display_2([image[0], create_mask(pred_mask)])"
   ]
  },
  {
   "cell_type": "code",
   "execution_count": 6,
   "id": "617af302-c337-42b0-97c5-56cb4956b31e",
   "metadata": {},
   "outputs": [],
   "source": [
    "@app.route('/')\n",
    "def index():\n",
    "    return render_template('index2.html')"
   ]
  },
  {
   "cell_type": "code",
   "execution_count": 7,
   "id": "9c1f72e1-1f72-4063-b3f4-a686d395f25c",
   "metadata": {},
   "outputs": [],
   "source": [
    "@app.route('/upload', methods=['POST'])\n",
    "def upload():\n",
    "    if 'file' not in request.files:\n",
    "        return 'No file part'\n",
    "    \n",
    "    file = request.files['file']\n",
    "\n",
    "    if file.filename == '':\n",
    "        return 'No selected file'\n",
    "    \n",
    "    if file:\n",
    "        # Save the uploaded file to the specified folder\n",
    "        filename = file.filename\n",
    "        image_path = os.path.join(app.config['UPLOAD_FOLDER'], filename)\n",
    "        file.save(image_path)\n",
    "        image_list = []\n",
    "        image_list.append(image_path)\n",
    "               \n",
    "        # Get only files from the image directory\n",
    "        # Create a TensorFlow dataset from the list of file paths\n",
    "        image_dataset = tf.data.Dataset.from_tensor_slices(image_list)\n",
    "        \n",
    "        # Map the loading and preprocessing function to the dataset\n",
    "        image_dataset = image_dataset.map(load_image_and_preprocess, num_parallel_calls=tf.data.AUTOTUNE)\n",
    "        test_batches = image_dataset.take(1).batch(1)\n",
    "       \n",
    "        # Now, you can iterate through the dataset and predict\n",
    "        # Take a single batch for demonstration\n",
    "        show_predictions(test_batches.take(1),1)\n",
    "\n",
    "        # Redirect to result page\n",
    "        return redirect(url_for('result'))\n",
    "\n",
    "    return redirect(request.url)"
   ]
  },
  {
   "cell_type": "code",
   "execution_count": 8,
   "id": "bbc0efa2-95f8-4d17-afd9-a642592d0cea",
   "metadata": {},
   "outputs": [],
   "source": [
    "@app.route('/result')\n",
    "def result():\n",
    "    return render_template('result1.html')"
   ]
  },
  {
   "cell_type": "code",
   "execution_count": null,
   "id": "f3ab8151-d783-4b08-a947-5dda2ff0c918",
   "metadata": {
    "scrolled": true
   },
   "outputs": [
    {
     "name": "stdout",
     "output_type": "stream",
     "text": [
      " * Serving Flask app '__main__'\n",
      " * Debug mode: off\n"
     ]
    },
    {
     "name": "stderr",
     "output_type": "stream",
     "text": [
      "WARNING: This is a development server. Do not use it in a production deployment. Use a production WSGI server instead.\n",
      " * Running on http://127.0.0.1:5000\n",
      "Press CTRL+C to quit\n",
      "127.0.0.1 - - [19/Apr/2024 14:10:48] \"GET / HTTP/1.1\" 200 -\n",
      "127.0.0.1 - - [19/Apr/2024 14:10:48] \"GET / HTTP/1.1\" 200 -\n",
      "127.0.0.1 - - [19/Apr/2024 14:10:48] \"GET /favicon.ico HTTP/1.1\" 404 -\n"
     ]
    },
    {
     "name": "stdout",
     "output_type": "stream",
     "text": [
      "\u001b[1m1/1\u001b[0m \u001b[32m━━━━━━━━━━━━━━━━━━━━\u001b[0m\u001b[37m\u001b[0m \u001b[1m2s\u001b[0m 2s/step\n"
     ]
    },
    {
     "name": "stderr",
     "output_type": "stream",
     "text": [
      "127.0.0.1 - - [19/Apr/2024 14:29:56] \"POST /upload HTTP/1.1\" 302 -\n",
      "127.0.0.1 - - [19/Apr/2024 14:29:56] \"GET /result HTTP/1.1\" 200 -\n",
      "127.0.0.1 - - [19/Apr/2024 14:29:56] \"GET /static/pred.jpg HTTP/1.1\" 200 -\n",
      "127.0.0.1 - - [19/Apr/2024 14:29:56] \"GET /result HTTP/1.1\" 200 -\n",
      "127.0.0.1 - - [19/Apr/2024 14:30:54] \"GET /result HTTP/1.1\" 200 -\n",
      "127.0.0.1 - - [19/Apr/2024 14:30:54] \"GET /static/pred.jpg HTTP/1.1\" 304 -\n",
      "127.0.0.1 - - [19/Apr/2024 14:30:54] \"GET /result HTTP/1.1\" 200 -\n",
      "127.0.0.1 - - [19/Apr/2024 14:30:56] \"GET / HTTP/1.1\" 200 -\n"
     ]
    },
    {
     "name": "stdout",
     "output_type": "stream",
     "text": [
      "\u001b[1m1/1\u001b[0m \u001b[32m━━━━━━━━━━━━━━━━━━━━\u001b[0m\u001b[37m\u001b[0m \u001b[1m0s\u001b[0m 496ms/step\n"
     ]
    },
    {
     "name": "stderr",
     "output_type": "stream",
     "text": [
      "127.0.0.1 - - [19/Apr/2024 14:31:12] \"POST /upload HTTP/1.1\" 302 -\n",
      "127.0.0.1 - - [19/Apr/2024 14:31:12] \"GET /result HTTP/1.1\" 200 -\n",
      "127.0.0.1 - - [19/Apr/2024 14:31:12] \"GET /result HTTP/1.1\" 200 -\n",
      "127.0.0.1 - - [19/Apr/2024 14:31:12] \"GET /static/pred.jpg HTTP/1.1\" 200 -\n"
     ]
    }
   ],
   "source": [
    "if __name__ == '__main__':\n",
    "    app.run()"
   ]
  }
 ],
 "metadata": {
  "kernelspec": {
   "display_name": "Python 3 (ipykernel)",
   "language": "python",
   "name": "python3"
  },
  "language_info": {
   "codemirror_mode": {
    "name": "ipython",
    "version": 3
   },
   "file_extension": ".py",
   "mimetype": "text/x-python",
   "name": "python",
   "nbconvert_exporter": "python",
   "pygments_lexer": "ipython3",
   "version": "3.11.4"
  }
 },
 "nbformat": 4,
 "nbformat_minor": 5
}
