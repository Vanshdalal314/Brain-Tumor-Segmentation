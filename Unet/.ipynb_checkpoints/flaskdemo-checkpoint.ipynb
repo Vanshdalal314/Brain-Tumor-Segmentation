{
 "cells": [
  {
   "cell_type": "code",
   "execution_count": 1,
   "id": "dd9d50ec",
   "metadata": {},
   "outputs": [
    {
     "name": "stdout",
     "output_type": "stream",
     "text": [
      "Defaulting to user installation because normal site-packages is not writeable\n",
      "Collecting virtualenv\n",
      "  Obtaining dependency information for virtualenv from https://files.pythonhosted.org/packages/16/65/0d0bdfdac31e2db8c6d6c18fe1e00236f0dea279f9846f94a9aafa49cfc9/virtualenv-20.25.1-py3-none-any.whl.metadata\n",
      "  Downloading virtualenv-20.25.1-py3-none-any.whl.metadata (4.4 kB)\n",
      "Collecting distlib<1,>=0.3.7 (from virtualenv)\n",
      "  Obtaining dependency information for distlib<1,>=0.3.7 from https://files.pythonhosted.org/packages/8e/41/9307e4f5f9976bc8b7fea0b66367734e8faf3ec84bc0d412d8cfabbb66cd/distlib-0.3.8-py2.py3-none-any.whl.metadata\n",
      "  Downloading distlib-0.3.8-py2.py3-none-any.whl.metadata (5.1 kB)\n",
      "Collecting filelock<4,>=3.12.2 (from virtualenv)\n",
      "  Obtaining dependency information for filelock<4,>=3.12.2 from https://files.pythonhosted.org/packages/8b/69/acdf492db27dea7be5c63053230130e0574fd8a376de3555d5f8bbc3d3ad/filelock-3.13.3-py3-none-any.whl.metadata\n",
      "  Downloading filelock-3.13.3-py3-none-any.whl.metadata (2.8 kB)\n",
      "Requirement already satisfied: platformdirs<5,>=3.9.1 in c:\\programdata\\anaconda3\\lib\\site-packages (from virtualenv) (3.10.0)\n",
      "Downloading virtualenv-20.25.1-py3-none-any.whl (3.8 MB)\n",
      "   ---------------------------------------- 0.0/3.8 MB ? eta -:--:--\n",
      "   ---------------------------------------- 0.0/3.8 MB ? eta -:--:--\n",
      "   ---------------------------------------- 0.0/3.8 MB ? eta -:--:--\n",
      "   - -------------------------------------- 0.1/3.8 MB 2.2 MB/s eta 0:00:02\n",
      "   - -------------------------------------- 0.2/3.8 MB 2.0 MB/s eta 0:00:02\n",
      "   -- ------------------------------------- 0.2/3.8 MB 1.5 MB/s eta 0:00:03\n",
      "   -- ------------------------------------- 0.3/3.8 MB 1.5 MB/s eta 0:00:03\n",
      "   --- ------------------------------------ 0.3/3.8 MB 1.5 MB/s eta 0:00:03\n",
      "   ---- ----------------------------------- 0.4/3.8 MB 1.5 MB/s eta 0:00:03\n",
      "   ---- ----------------------------------- 0.4/3.8 MB 1.5 MB/s eta 0:00:03\n",
      "   ---- ----------------------------------- 0.5/3.8 MB 1.3 MB/s eta 0:00:03\n",
      "   ----- ---------------------------------- 0.5/3.8 MB 1.4 MB/s eta 0:00:03\n",
      "   ------ --------------------------------- 0.6/3.8 MB 1.3 MB/s eta 0:00:03\n",
      "   ------ --------------------------------- 0.6/3.8 MB 1.3 MB/s eta 0:00:03\n",
      "   ------- -------------------------------- 0.7/3.8 MB 1.3 MB/s eta 0:00:03\n",
      "   ------- -------------------------------- 0.7/3.8 MB 1.3 MB/s eta 0:00:03\n",
      "   -------- ------------------------------- 0.8/3.8 MB 1.3 MB/s eta 0:00:03\n",
      "   --------- ------------------------------ 0.9/3.8 MB 1.4 MB/s eta 0:00:03\n",
      "   --------- ------------------------------ 0.9/3.8 MB 1.4 MB/s eta 0:00:03\n",
      "   ---------- ----------------------------- 1.0/3.8 MB 1.4 MB/s eta 0:00:02\n",
      "   ----------- ---------------------------- 1.1/3.8 MB 1.4 MB/s eta 0:00:02\n",
      "   ------------ --------------------------- 1.2/3.8 MB 1.5 MB/s eta 0:00:02\n",
      "   ------------- -------------------------- 1.2/3.8 MB 1.5 MB/s eta 0:00:02\n",
      "   -------------- ------------------------- 1.3/3.8 MB 1.5 MB/s eta 0:00:02\n",
      "   -------------- ------------------------- 1.4/3.8 MB 1.5 MB/s eta 0:00:02\n",
      "   --------------- ------------------------ 1.5/3.8 MB 1.5 MB/s eta 0:00:02\n",
      "   ---------------- ----------------------- 1.6/3.8 MB 1.5 MB/s eta 0:00:02\n",
      "   ----------------- ---------------------- 1.6/3.8 MB 1.6 MB/s eta 0:00:02\n",
      "   ------------------ --------------------- 1.7/3.8 MB 1.6 MB/s eta 0:00:02\n",
      "   ------------------- -------------------- 1.8/3.8 MB 1.6 MB/s eta 0:00:02\n",
      "   -------------------- ------------------- 1.9/3.8 MB 1.6 MB/s eta 0:00:02\n",
      "   -------------------- ------------------- 2.0/3.8 MB 1.6 MB/s eta 0:00:02\n",
      "   --------------------- ------------------ 2.0/3.8 MB 1.6 MB/s eta 0:00:02\n",
      "   ---------------------- ----------------- 2.2/3.8 MB 1.7 MB/s eta 0:00:01\n",
      "   ------------------------ --------------- 2.3/3.8 MB 1.7 MB/s eta 0:00:01\n",
      "   ------------------------- -------------- 2.4/3.8 MB 1.7 MB/s eta 0:00:01\n",
      "   -------------------------- ------------- 2.5/3.8 MB 1.7 MB/s eta 0:00:01\n",
      "   -------------------------- ------------- 2.5/3.8 MB 1.7 MB/s eta 0:00:01\n",
      "   --------------------------- ------------ 2.6/3.8 MB 1.7 MB/s eta 0:00:01\n",
      "   ---------------------------- ----------- 2.7/3.8 MB 1.8 MB/s eta 0:00:01\n",
      "   ----------------------------- ---------- 2.8/3.8 MB 1.8 MB/s eta 0:00:01\n",
      "   ------------------------------ --------- 2.9/3.8 MB 1.8 MB/s eta 0:00:01\n",
      "   ------------------------------- -------- 3.0/3.8 MB 1.8 MB/s eta 0:00:01\n",
      "   -------------------------------- ------- 3.1/3.8 MB 1.8 MB/s eta 0:00:01\n",
      "   --------------------------------- ------ 3.2/3.8 MB 1.8 MB/s eta 0:00:01\n",
      "   ---------------------------------- ----- 3.3/3.8 MB 1.8 MB/s eta 0:00:01\n",
      "   ----------------------------------- ---- 3.4/3.8 MB 1.9 MB/s eta 0:00:01\n",
      "   ------------------------------------ --- 3.5/3.8 MB 1.9 MB/s eta 0:00:01\n",
      "   ------------------------------------- -- 3.6/3.8 MB 1.9 MB/s eta 0:00:01\n",
      "   ---------------------------------------  3.7/3.8 MB 1.9 MB/s eta 0:00:01\n",
      "   ---------------------------------------  3.8/3.8 MB 1.9 MB/s eta 0:00:01\n",
      "   ---------------------------------------  3.8/3.8 MB 1.9 MB/s eta 0:00:01\n",
      "   ---------------------------------------- 3.8/3.8 MB 1.8 MB/s eta 0:00:00\n",
      "Downloading distlib-0.3.8-py2.py3-none-any.whl (468 kB)\n",
      "   ---------------------------------------- 0.0/468.9 kB ? eta -:--:--\n",
      "   --------- ------------------------------ 112.6/468.9 kB 3.3 MB/s eta 0:00:01\n",
      "   ------------------- -------------------- 225.3/468.9 kB 3.4 MB/s eta 0:00:01\n",
      "   -------------------------- ------------- 307.2/468.9 kB 3.2 MB/s eta 0:00:01\n",
      "   ------------------------------------- -- 440.3/468.9 kB 3.1 MB/s eta 0:00:01\n",
      "   ---------------------------------------  460.8/468.9 kB 2.9 MB/s eta 0:00:01\n",
      "   ---------------------------------------- 468.9/468.9 kB 2.3 MB/s eta 0:00:00\n",
      "Downloading filelock-3.13.3-py3-none-any.whl (11 kB)\n",
      "Installing collected packages: distlib, filelock, virtualenv\n",
      "Successfully installed distlib-0.3.8 filelock-3.13.3 virtualenv-20.25.1\n",
      "Note: you may need to restart the kernel to use updated packages.\n"
     ]
    },
    {
     "name": "stderr",
     "output_type": "stream",
     "text": [
      "  WARNING: The script virtualenv.exe is installed in 'C:\\Users\\Administrator\\AppData\\Roaming\\Python\\Python311\\Scripts' which is not on PATH.\n",
      "  Consider adding this directory to PATH or, if you prefer to suppress this warning, use --no-warn-script-location.\n"
     ]
    }
   ],
   "source": [
    "pip install virtualenv"
   ]
  },
  {
   "cell_type": "code",
   "execution_count": 1,
   "id": "6e4cf3db",
   "metadata": {},
   "outputs": [
    {
     "name": "stdout",
     "output_type": "stream",
     "text": [
      "Defaulting to user installation because normal site-packages is not writeable\n",
      "Requirement already satisfied: flask in c:\\programdata\\anaconda3\\lib\\site-packages (2.2.2)\n",
      "Requirement already satisfied: Werkzeug>=2.2.2 in c:\\programdata\\anaconda3\\lib\\site-packages (from flask) (2.2.3)\n",
      "Requirement already satisfied: Jinja2>=3.0 in c:\\programdata\\anaconda3\\lib\\site-packages (from flask) (3.1.2)\n",
      "Requirement already satisfied: itsdangerous>=2.0 in c:\\programdata\\anaconda3\\lib\\site-packages (from flask) (2.0.1)\n",
      "Requirement already satisfied: click>=8.0 in c:\\programdata\\anaconda3\\lib\\site-packages (from flask) (8.0.4)\n",
      "Requirement already satisfied: colorama in c:\\programdata\\anaconda3\\lib\\site-packages (from click>=8.0->flask) (0.4.6)\n",
      "Requirement already satisfied: MarkupSafe>=2.0 in c:\\programdata\\anaconda3\\lib\\site-packages (from Jinja2>=3.0->flask) (2.1.1)\n",
      "Note: you may need to restart the kernel to use updated packages.\n"
     ]
    }
   ],
   "source": [
    "pip install flask"
   ]
  },
  {
   "cell_type": "code",
   "execution_count": 2,
   "id": "d1b9203b",
   "metadata": {},
   "outputs": [],
   "source": [
    "from flask import Flask,render_template"
   ]
  },
  {
   "cell_type": "code",
   "execution_count": 11,
   "id": "43ceebb4",
   "metadata": {},
   "outputs": [
    {
     "name": "stdout",
     "output_type": "stream",
     "text": [
      " * Serving Flask app '__main__'\n",
      " * Debug mode: off\n"
     ]
    },
    {
     "name": "stderr",
     "output_type": "stream",
     "text": [
      "WARNING: This is a development server. Do not use it in a production deployment. Use a production WSGI server instead.\n",
      " * Running on http://127.0.0.1:5000\n",
      "Press CTRL+C to quit\n",
      "127.0.0.1 - - [03/Apr/2024 16:51:38] \"GET / HTTP/1.1\" 200 -\n",
      "127.0.0.1 - - [03/Apr/2024 16:51:38] \"GET /favicon.ico HTTP/1.1\" 404 -\n"
     ]
    }
   ],
   "source": [
    "app = Flask(__name__)\n",
    "@app.route('/')\n",
    "def hello():\n",
    "    return 'Hello, World!'\n",
    "if __name__ == '__main__':\n",
    "    app.run()"
   ]
  },
  {
   "cell_type": "code",
   "execution_count": 13,
   "id": "81204453",
   "metadata": {},
   "outputs": [
    {
     "name": "stdout",
     "output_type": "stream",
     "text": [
      " * Serving Flask app '__main__'\n",
      " * Debug mode: off\n"
     ]
    },
    {
     "name": "stderr",
     "output_type": "stream",
     "text": [
      "WARNING: This is a development server. Do not use it in a production deployment. Use a production WSGI server instead.\n",
      " * Running on http://127.0.0.1:5001\n",
      "Press CTRL+C to quit\n",
      "127.0.0.1 - - [03/Apr/2024 16:57:44] \"GET / HTTP/1.1\" 200 -\n",
      "127.0.0.1 - - [03/Apr/2024 16:57:44] \"GET /favicon.ico HTTP/1.1\" 404 -\n"
     ]
    }
   ],
   "source": [
    "app = Flask(__name__)\n",
    "\n",
    "@app.route('/')\n",
    "def index():\n",
    "    user = {'username': 'JohnDoe', 'age': 30}\n",
    "    fruits = ['Apple', 'Banana', 'Orange', 'Mango']\n",
    "\n",
    "    return render_template('index.html', user=user, fruits=fruits)\n",
    "\n",
    "if __name__ == '__main__':\n",
    "    app.run('127.0.0.1',5001)"
   ]
  },
  {
   "cell_type": "code",
   "execution_count": null,
   "id": "c9632bf2",
   "metadata": {},
   "outputs": [
    {
     "name": "stdout",
     "output_type": "stream",
     "text": [
      " * Serving Flask app '__main__'\n",
      " * Debug mode: off\n"
     ]
    },
    {
     "name": "stderr",
     "output_type": "stream",
     "text": [
      "WARNING: This is a development server. Do not use it in a production deployment. Use a production WSGI server instead.\n",
      " * Running on http://127.0.0.1:5000\n",
      "Press CTRL+C to quit\n",
      "127.0.0.1 - - [04/Apr/2024 17:40:43] \"GET / HTTP/1.1\" 200 -\n",
      "127.0.0.1 - - [04/Apr/2024 17:40:59] \"POST / HTTP/1.1\" 200 -\n",
      "127.0.0.1 - - [04/Apr/2024 17:41:02] \"GET / HTTP/1.1\" 200 -\n",
      "127.0.0.1 - - [04/Apr/2024 17:41:29] \"GET / HTTP/1.1\" 200 -\n",
      "127.0.0.1 - - [04/Apr/2024 17:41:35] \"POST / HTTP/1.1\" 200 -\n",
      "127.0.0.1 - - [04/Apr/2024 17:41:59] \"POST / HTTP/1.1\" 200 -\n"
     ]
    }
   ],
   "source": [
    "from flask import request\n",
    "app = Flask(__name__)\n",
    "def validate_form_data(username, email, address):\n",
    "    errors = []\n",
    "    if not username:\n",
    "        errors.append(\"Username is required.\")\n",
    "    if not email:\n",
    "        errors.append(\"Email is required.\")\n",
    "    if not address:\n",
    "        errors.append(\"Please enter address\")\n",
    "    elif '@' not in email:\n",
    "        errors.append(\"Invalid email format.\")\n",
    "    return errors\n",
    "\n",
    "@app.route('/', methods=['GET', 'POST'])\n",
    "def register():\n",
    "    if request.method == 'POST':\n",
    "        username = request.form['username']\n",
    "        email = request.form['email']\n",
    "        gender = request.form['gender']\n",
    "        address = request.form['address']\n",
    "        errors = validate_form_data(username, email, address)\n",
    "        if errors:\n",
    "            return render_template('register.html', errors=errors)\n",
    "        else:\n",
    "            return render_template('success.html', username=username, email=email, address=address)\n",
    "    else:\n",
    "        return render_template('register.html')\n",
    "\n",
    "if __name__ == '__main__':\n",
    "    app.run()"
   ]
  }
 ],
 "metadata": {
  "kernelspec": {
   "display_name": "Python 3 (ipykernel)",
   "language": "python",
   "name": "python3"
  },
  "language_info": {
   "codemirror_mode": {
    "name": "ipython",
    "version": 3
   },
   "file_extension": ".py",
   "mimetype": "text/x-python",
   "name": "python",
   "nbconvert_exporter": "python",
   "pygments_lexer": "ipython3",
   "version": "3.11.5"
  }
 },
 "nbformat": 4,
 "nbformat_minor": 5
}
